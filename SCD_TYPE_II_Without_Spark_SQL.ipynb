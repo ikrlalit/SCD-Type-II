{
 "cells": [
  {
   "cell_type": "code",
   "execution_count": 1,
   "id": "d3011420-306e-428d-b5c5-3708a0b266a8",
   "metadata": {},
   "outputs": [],
   "source": [
    "from pyspark.sql import SparkSession\n",
    "from pyspark.sql.functions import col, lit"
   ]
  },
  {
   "cell_type": "code",
   "execution_count": 21,
   "id": "424c6602-4ae9-4582-af5c-f5071b81e7aa",
   "metadata": {},
   "outputs": [],
   "source": [
    "spark = SparkSession.builder.appName(\"SCD_Type_II\").getOrCreate()"
   ]
  },
  {
   "cell_type": "code",
   "execution_count": null,
   "id": "5cd03e07-69e8-42e1-8d4e-043ec60c8f33",
   "metadata": {},
   "outputs": [],
   "source": [
    "# Load data to DataFrame\n",
    "customer_df = spark.read.option(\"header\", True).csv(\"dataset/customer.csv\")\n",
    "new_customer_df = spark.read.option(\"header\", True).csv(\"dataset/newcustomer.csv\")"
   ]
  },
  {
   "cell_type": "code",
   "execution_count": 4,
   "id": "cb7b7ac2-5064-4a30-8b9a-1f2dba89460d",
   "metadata": {},
   "outputs": [
    {
     "name": "stdout",
     "output_type": "stream",
     "text": [
      "+-----------+------------+-------------+----------+--------+----------+\n",
      "|Customer_ID|        Name|      Address|Start_Date|End_Date|Is_Current|\n",
      "+-----------+------------+-------------+----------+--------+----------+\n",
      "|        101|    John Doe|     New York|01-01-2022|    NULL|         Y|\n",
      "|        102|  Jane Smith|      Chicago|15-03-2023|    NULL|         Y|\n",
      "|        103| Michael Lee|San Francisco|20-07-2021|    NULL|         Y|\n",
      "|        104| Emily Davis|       Boston|10-01-2024|    NULL|         Y|\n",
      "|        105|David Wilson|      Seattle|05-11-2023|    NULL|         Y|\n",
      "+-----------+------------+-------------+----------+--------+----------+\n",
      "\n"
     ]
    }
   ],
   "source": [
    "customer_df.show()"
   ]
  },
  {
   "cell_type": "code",
   "execution_count": 5,
   "id": "450bcfe8-3d14-486b-bc19-446e19d3a3fb",
   "metadata": {},
   "outputs": [
    {
     "name": "stdout",
     "output_type": "stream",
     "text": [
      "+-----------+----------+-----------+----------+\n",
      "|Customer_ID|      Name|    Address|Start_Date|\n",
      "+-----------+----------+-----------+----------+\n",
      "|        101|  John Doe|Los Angeles|20-07-2025|\n",
      "|        102|Jane Smith|     Dallas|20-07-2025|\n",
      "+-----------+----------+-----------+----------+\n",
      "\n"
     ]
    }
   ],
   "source": [
    "new_customer_df.show()"
   ]
  },
  {
   "cell_type": "code",
   "execution_count": 6,
   "id": "8123a690-751d-406b-b2f9-5323b45d7762",
   "metadata": {},
   "outputs": [],
   "source": [
    "current_date = \"2025-07-20\"\n",
    "previous_date = \"2025-07-19\""
   ]
  },
  {
   "cell_type": "code",
   "execution_count": 7,
   "id": "5c3ecc08-24c9-414b-a5c7-5e56af36f953",
   "metadata": {},
   "outputs": [],
   "source": [
    "joined_df = customer_df.alias(\"cust\").join(\n",
    "    new_customer_df.alias(\"new\"),\n",
    "    on=\"Customer_ID\"\n",
    ").select(\n",
    "    col(\"cust.Customer_ID\"),\n",
    "    col(\"cust.Name\").alias(\"old_name\"),\n",
    "    col(\"cust.Address\").alias(\"old_address\"),\n",
    "    col(\"cust.Start_Date\"),\n",
    "    col(\"cust.End_Date\"),\n",
    "    col(\"cust.Is_Current\"),\n",
    "    col(\"new.Name\").alias(\"new_name\"),\n",
    "    col(\"new.Address\").alias(\"new_address\"),\n",
    "    col(\"new.Start_Date\").alias(\"new_start_date\")\n",
    ")\n"
   ]
  },
  {
   "cell_type": "code",
   "execution_count": 8,
   "id": "1e26c4ea-6ba0-4a53-b20e-6fcefd1e4ad4",
   "metadata": {},
   "outputs": [
    {
     "name": "stdout",
     "output_type": "stream",
     "text": [
      "+-----------+----------+-----------+----------+--------+----------+----------+-----------+--------------+\n",
      "|Customer_ID|  old_name|old_address|Start_Date|End_Date|Is_Current|  new_name|new_address|new_start_date|\n",
      "+-----------+----------+-----------+----------+--------+----------+----------+-----------+--------------+\n",
      "|        101|  John Doe|   New York|01-01-2022|    NULL|         Y|  John Doe|Los Angeles|    20-07-2025|\n",
      "|        102|Jane Smith|    Chicago|15-03-2023|    NULL|         Y|Jane Smith|     Dallas|    20-07-2025|\n",
      "+-----------+----------+-----------+----------+--------+----------+----------+-----------+--------------+\n",
      "\n"
     ]
    }
   ],
   "source": [
    "joined_df.show()"
   ]
  },
  {
   "cell_type": "code",
   "execution_count": 9,
   "id": "dbfc0672-9307-468b-89c1-22cd67c6afd3",
   "metadata": {},
   "outputs": [],
   "source": [
    "changed_rows = joined_df.filter(col(\"old_address\") != col(\"new_address\"))"
   ]
  },
  {
   "cell_type": "code",
   "execution_count": 11,
   "id": "52c78d97-ade9-416c-bbbf-6aba60b2d6d8",
   "metadata": {},
   "outputs": [
    {
     "name": "stdout",
     "output_type": "stream",
     "text": [
      "+-----------+----------+-----------+----------+--------+----------+----------+-----------+--------------+\n",
      "|Customer_ID|  old_name|old_address|Start_Date|End_Date|Is_Current|  new_name|new_address|new_start_date|\n",
      "+-----------+----------+-----------+----------+--------+----------+----------+-----------+--------------+\n",
      "|        101|  John Doe|   New York|01-01-2022|    NULL|         Y|  John Doe|Los Angeles|    20-07-2025|\n",
      "|        102|Jane Smith|    Chicago|15-03-2023|    NULL|         Y|Jane Smith|     Dallas|    20-07-2025|\n",
      "+-----------+----------+-----------+----------+--------+----------+----------+-----------+--------------+\n",
      "\n"
     ]
    }
   ],
   "source": [
    "changed_rows.show()"
   ]
  },
  {
   "cell_type": "code",
   "execution_count": 12,
   "id": "01afad7f-aba0-4c7e-ae68-6e250b5dce5e",
   "metadata": {},
   "outputs": [],
   "source": [
    "expired_records = customer_df.join(\n",
    "    changed_rows.select(\"Customer_ID\"), on=\"Customer_ID\"\n",
    ").withColumn(\"End_Date\", lit(previous_date)) \\\n",
    " .withColumn(\"Is_Current\", lit(\"N\"))"
   ]
  },
  {
   "cell_type": "code",
   "execution_count": 13,
   "id": "ef1b7eee-95f2-419a-960f-bcbf92219809",
   "metadata": {},
   "outputs": [
    {
     "name": "stdout",
     "output_type": "stream",
     "text": [
      "+-----------+----------+--------+----------+----------+----------+\n",
      "|Customer_ID|      Name| Address|Start_Date|  End_Date|Is_Current|\n",
      "+-----------+----------+--------+----------+----------+----------+\n",
      "|        101|  John Doe|New York|01-01-2022|2025-07-19|         N|\n",
      "|        102|Jane Smith| Chicago|15-03-2023|2025-07-19|         N|\n",
      "+-----------+----------+--------+----------+----------+----------+\n",
      "\n"
     ]
    }
   ],
   "source": [
    "expired_records.show()"
   ]
  },
  {
   "cell_type": "code",
   "execution_count": 14,
   "id": "da72a0b1-5f4d-4158-9f7f-fe8340a7589a",
   "metadata": {},
   "outputs": [],
   "source": [
    "new_records = changed_rows.select(\n",
    "    col(\"Customer_ID\"),\n",
    "    col(\"new_name\").alias(\"Name\"),\n",
    "    col(\"new_address\").alias(\"Address\"),\n",
    "    col(\"new_start_date\").alias(\"Start_Date\")\n",
    ").withColumn(\"End_Date\", lit(\"\")) \\\n",
    " .withColumn(\"Is_Current\", lit(\"Y\"))"
   ]
  },
  {
   "cell_type": "code",
   "execution_count": 15,
   "id": "3305fa39-ccf3-4432-9a92-eaec9721c5f7",
   "metadata": {},
   "outputs": [
    {
     "name": "stdout",
     "output_type": "stream",
     "text": [
      "+-----------+----------+-----------+----------+--------+----------+\n",
      "|Customer_ID|      Name|    Address|Start_Date|End_Date|Is_Current|\n",
      "+-----------+----------+-----------+----------+--------+----------+\n",
      "|        101|  John Doe|Los Angeles|20-07-2025|        |         Y|\n",
      "|        102|Jane Smith|     Dallas|20-07-2025|        |         Y|\n",
      "+-----------+----------+-----------+----------+--------+----------+\n",
      "\n"
     ]
    }
   ],
   "source": [
    "new_records.show()"
   ]
  },
  {
   "cell_type": "code",
   "execution_count": 16,
   "id": "b76d9461-3ef7-4d23-94c2-7b31177b2153",
   "metadata": {},
   "outputs": [],
   "source": [
    "unchanged_records = customer_df.join(\n",
    "    changed_rows.select(\"Customer_ID\"), on=\"Customer_ID\", how=\"left_anti\"\n",
    ")"
   ]
  },
  {
   "cell_type": "code",
   "execution_count": 17,
   "id": "fb946df8-acb2-4dab-adfa-ba0238e1b72d",
   "metadata": {},
   "outputs": [
    {
     "name": "stdout",
     "output_type": "stream",
     "text": [
      "+-----------+------------+-------------+----------+--------+----------+\n",
      "|Customer_ID|        Name|      Address|Start_Date|End_Date|Is_Current|\n",
      "+-----------+------------+-------------+----------+--------+----------+\n",
      "|        103| Michael Lee|San Francisco|20-07-2021|    NULL|         Y|\n",
      "|        104| Emily Davis|       Boston|10-01-2024|    NULL|         Y|\n",
      "|        105|David Wilson|      Seattle|05-11-2023|    NULL|         Y|\n",
      "+-----------+------------+-------------+----------+--------+----------+\n",
      "\n"
     ]
    }
   ],
   "source": [
    "unchanged_records.show()"
   ]
  },
  {
   "cell_type": "code",
   "execution_count": 18,
   "id": "7c8372f9-e720-4bcf-8a7a-4a98273cfe1a",
   "metadata": {},
   "outputs": [],
   "source": [
    "final_df = expired_records.union(new_records).union(unchanged_records)"
   ]
  },
  {
   "cell_type": "code",
   "execution_count": 19,
   "id": "8a5f6a76-97ae-4396-9b06-ff7125886df0",
   "metadata": {},
   "outputs": [
    {
     "name": "stdout",
     "output_type": "stream",
     "text": [
      "+-----------+------------+-------------+----------+----------+----------+\n",
      "|Customer_ID|        Name|      Address|Start_Date|  End_Date|Is_Current|\n",
      "+-----------+------------+-------------+----------+----------+----------+\n",
      "|        101|    John Doe|     New York|01-01-2022|2025-07-19|         N|\n",
      "|        102|  Jane Smith|      Chicago|15-03-2023|2025-07-19|         N|\n",
      "|        101|    John Doe|  Los Angeles|20-07-2025|          |         Y|\n",
      "|        102|  Jane Smith|       Dallas|20-07-2025|          |         Y|\n",
      "|        103| Michael Lee|San Francisco|20-07-2021|      NULL|         Y|\n",
      "|        104| Emily Davis|       Boston|10-01-2024|      NULL|         Y|\n",
      "|        105|David Wilson|      Seattle|05-11-2023|      NULL|         Y|\n",
      "+-----------+------------+-------------+----------+----------+----------+\n",
      "\n"
     ]
    }
   ],
   "source": [
    "final_df.show()"
   ]
  },
  {
   "cell_type": "code",
   "execution_count": 20,
   "id": "0601ae58-a106-4c72-a57f-63fc3261d13b",
   "metadata": {},
   "outputs": [
    {
     "name": "stdout",
     "output_type": "stream",
     "text": [
      "+-----------+------------+-------------+----------+----------+----------+\n",
      "|Customer_ID|Name        |Address      |Start_Date|End_Date  |Is_Current|\n",
      "+-----------+------------+-------------+----------+----------+----------+\n",
      "|101        |John Doe    |New York     |01-01-2022|2025-07-19|N         |\n",
      "|101        |John Doe    |Los Angeles  |20-07-2025|          |Y         |\n",
      "|102        |Jane Smith  |Chicago      |15-03-2023|2025-07-19|N         |\n",
      "|102        |Jane Smith  |Dallas       |20-07-2025|          |Y         |\n",
      "|103        |Michael Lee |San Francisco|20-07-2021|NULL      |Y         |\n",
      "|104        |Emily Davis |Boston       |10-01-2024|NULL      |Y         |\n",
      "|105        |David Wilson|Seattle      |05-11-2023|NULL      |Y         |\n",
      "+-----------+------------+-------------+----------+----------+----------+\n",
      "\n"
     ]
    }
   ],
   "source": [
    "final_df.orderBy(\"Customer_ID\", \"Start_Date\").show(truncate=False)"
   ]
  }
 ],
 "metadata": {
  "kernelspec": {
   "display_name": "Python 3 (ipykernel)",
   "language": "python",
   "name": "python3"
  },
  "language_info": {
   "codemirror_mode": {
    "name": "ipython",
    "version": 3
   },
   "file_extension": ".py",
   "mimetype": "text/x-python",
   "name": "python",
   "nbconvert_exporter": "python",
   "pygments_lexer": "ipython3",
   "version": "3.12.3"
  }
 },
 "nbformat": 4,
 "nbformat_minor": 5
}
